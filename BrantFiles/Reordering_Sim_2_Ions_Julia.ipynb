{
 "cells": [
  {
   "cell_type": "code",
   "execution_count": 84,
   "id": "1c093c36",
   "metadata": {},
   "outputs": [
    {
     "name": "stdout",
     "output_type": "stream",
     "text": [
      "Expected number of collisions until re-order = 2.2200694234166147\n",
      "Check Normalizations (if not 1.0's something is wrong)\n",
      "1.0 1.0 1.0\n",
      "Analytic Time to Reorder (s) = 4685.094285433511\n",
      "Monte Carlo Time to Reorder (s) = 3904.1231488667195\n",
      "Monte Carlo Time Standard Deviation of Mean to Reorder (s) = 672.1592394164419\n"
     ]
    }
   ],
   "source": [
    "##########################################################\n",
    "#Here we solve the 2 ion chain completely and arbitrarily#\n",
    "##########################################################\n",
    "\n",
    "#Declare dependencies\n",
    "#using PlotlyJS\n",
    "using Statistics\n",
    "include(\"CollisionFunctions.jl\")\n",
    "\n",
    "#Define physical constants\n",
    "amu = 1.67e-27 #amu to kg\n",
    "\n",
    "#Define physical parameters\n",
    "wr = 2*pi*10e6 #radial angular trapping frequency\n",
    "wz =2*pi*1e6   #axial angular trapping frequency\n",
    "mTrapped = 40  #trapped ion mass in amu\n",
    "mColl = 2      #dominant collisional mass in amu\n",
    "P = 133*1e-11   #pressure in pascals\n",
    "T = 300        #temperature in kelvin\n",
    "a = 8e-31      #polarizability of hydrogen molecule \n",
    "\n",
    "#Define computational parameters\n",
    "nMB = Int(1e2)           #number of bins in maxwell boltzmann distribution\n",
    "lowMB = 0           #bottom velocity in maxwell boltzmann distribution\n",
    "highMB = 1e4        #top velocity in maxwell boltzmann distribution\n",
    "verboseMB = false   #controls printing test values from MB function\n",
    "nColl = Int(1e1)         #number of bins in fractional energy transfer, equally spaced from - to + pi/2\n",
    "plotEBarrier = true #controls plotting of energy barrier\n",
    "nRuns = 20 #number of montecarlo sims\n",
    "\n",
    "##############################\n",
    "#Above here are the inputs####\n",
    "#Below here are the processes#\n",
    "##############################\n",
    "\n",
    "#calculate energy barrier for our trap\n",
    "U = EBarrier2(wr,wz,mTrapped)\n",
    "\n",
    "#calculate velocity vector and probability density vector\n",
    "v,pVel = MBDist3D(T,nMB,lowMB,highMB,mColl,verboseMB)\n",
    "E = amu.*0.5.*mColl.*v.^2\n",
    "\n",
    "#calculate the collision angle vector and fraction of energy transfer vector\n",
    "beta,eFrac = CollETransfer(mTrapped,mColl,nColl)\n",
    "\n",
    "#calculate relative cross-section and probability of collision as a function of angle\n",
    "sigmaColl,pCollAng = CollAngleProb(a,E,beta) #still need to add these variables\n",
    "\n",
    "#Debug\n",
    "#println(\"sigmaColl = \",sigmaColl)\n",
    "#println(\"v = \",v)\n",
    "#println(\"dims of pCollAng = \",length(pCollAng),length(pCollAng[1]))\n",
    "\n",
    "#calculate time until reorder directly\n",
    "tAn = AnalyticReorder2(v,E,P,T,U,pVel,eFrac,pCollAng,sigmaColl)\n",
    "\n",
    "#calculate time until reorder with a monte carlo sim\n",
    "tMC = MonteCarloReorder2(v,E,P,T,U,pVel,eFrac,pCollAng,sigmaColl,nRuns)\n",
    "\n",
    "##############################\n",
    "#Above here are the processes#\n",
    "#Below here are the outputs###\n",
    "##############################\n",
    "\n",
    "\n",
    "#println(\"Energy Barrier (J) = \",U)\n",
    "#println(\"Angle = \",beta)\n",
    "#println(\"Collision energies = \",E)\n",
    "#println(\"Cross Section (m^2) = \",sigmaColl)\n",
    "#println(\"Probability of collision at that first energy and all angles = \",pCollAng[1])\n",
    "#println(\"Probability of that energy = \",pVel)\n",
    "println(\"Check Normalizations (if not 1.0's something is wrong)\")\n",
    "println(sum(pVel),\" \",sum(pCollAng[1]),\" \",sum(pCollAng[2]))\n",
    "println(\"Analytic Time to Reorder (s) = \",tAn)\n",
    "println(\"Monte Carlo Time to Reorder (s) = \",mean(tMC))\n",
    "println(\"Monte Carlo Time Standard Deviation of Mean to Reorder (s) = \",std(tMC)/(nRuns^0.5))"
   ]
  },
  {
   "cell_type": "code",
   "execution_count": 81,
   "id": "7c92039b",
   "metadata": {},
   "outputs": [
    {
     "name": "stdout",
     "output_type": "stream",
     "text": [
      "3\n"
     ]
    }
   ],
   "source": [
    "a = [[1,2],[3,4]]\n",
    "println(a[2][1])"
   ]
  },
  {
   "cell_type": "code",
   "execution_count": null,
   "id": "b17829f1",
   "metadata": {},
   "outputs": [],
   "source": []
  }
 ],
 "metadata": {
  "@webio": {
   "lastCommId": null,
   "lastKernelId": null
  },
  "kernelspec": {
   "display_name": "Julia 1.4.1",
   "language": "julia",
   "name": "julia-1.4"
  },
  "language_info": {
   "file_extension": ".jl",
   "mimetype": "application/julia",
   "name": "julia",
   "version": "1.4.1"
  }
 },
 "nbformat": 4,
 "nbformat_minor": 5
}
